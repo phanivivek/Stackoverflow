{
  "nbformat": 4,
  "nbformat_minor": 0,
  "metadata": {
    "colab": {
      "name": "Stackoverflow Tags Map & Model.ipynb",
      "version": "0.3.2",
      "provenance": [],
      "collapsed_sections": [],
      "machine_shape": "hm"
    },
    "language_info": {
      "codemirror_mode": {
        "name": "ipython",
        "version": 3
      },
      "file_extension": ".py",
      "mimetype": "text/x-python",
      "name": "python",
      "nbconvert_exporter": "python",
      "pygments_lexer": "ipython3",
      "version": "3.7.1"
    },
    "kernelspec": {
      "name": "python3",
      "display_name": "Python 3"
    },
    "accelerator": "TPU"
  },
  "cells": [
    {
      "cell_type": "code",
      "metadata": {
        "_cell_guid": "b1076dfc-b9ad-4769-8c92-a6c4dae69d19",
        "_uuid": "8f2839f25d086af736a60e9eeb907d3b93b6e0e5",
        "id": "sw6dRXROpOxI",
        "colab_type": "code",
        "outputId": "b3b01f54-082f-4a55-c58d-eeb64dd15f12",
        "colab": {
          "base_uri": "https://localhost:8080/",
          "height": 34
        }
      },
      "source": [
        "\n",
        "# This Python 3 environment comes with many helpful analytics libraries installed\n",
        "\n",
        "# For example, here's several helpful packages to load in \n",
        "\n",
        "import numpy as np # linear algebra\n",
        "import pandas as pd # data processing, CSV file I/O (e.g. pd.read_csv)\n",
        "\n",
        "# Input data files are available in the \n",
        "# For example, running this (by clicking run or pressing Shift+Enter) will list the files in the input directory\n",
        "\n",
        "import os\n",
        "from google.colab import drive\n",
        "drive.mount('/content/gdrive')\n",
        "\n",
        "\n",
        "# Plotting Libs\n",
        "import matplotlib.pyplot as plt\n",
        "import matplotlib.cm as cm\n",
        "# magic function\n",
        "%matplotlib inline\n",
        "\n",
        "import collections"
      ],
      "execution_count": 2,
      "outputs": [
        {
          "output_type": "stream",
          "text": [
            "Drive already mounted at /content/gdrive; to attempt to forcibly remount, call drive.mount(\"/content/gdrive\", force_remount=True).\n"
          ],
          "name": "stdout"
        }
      ]
    },
    {
      "cell_type": "code",
      "metadata": {
        "_cell_guid": "79c7e3d0-c299-4dcb-8224-4455121ee9b0",
        "_uuid": "d629ff2d2480ee46fbb7e2d37f6b5fab8052498a",
        "id": "GcpDFojWpOxS",
        "colab_type": "code",
        "colab": {}
      },
      "source": [
        "#Read the data from Tags\n",
        "df_tags = pd.read_csv('/content/gdrive/My Drive/Tags.csv', encoding='iso-8859-1')"
      ],
      "execution_count": 0,
      "outputs": []
    },
    {
      "cell_type": "code",
      "metadata": {
        "id": "IT0eHbjnpOxW",
        "colab_type": "code",
        "colab": {}
      },
      "source": [
        "# for plot top10 tags\n",
        "\n",
        "def plot_tags(tagCount):\n",
        "    \n",
        "    x,y = zip(*tagCount)\n",
        "\n",
        "    colormap = plt.cm.gist_ncar #nipy_spectral, Set1,Paired  \n",
        "    colors = [colormap(i) for i in np.linspace(0, 0.8,50)]   \n",
        "\n",
        "    area = [i/4000 for i in list(y)]   # 0 to 15 point radiuses\n",
        "    plt.figure(figsize=(9,8))\n",
        "    plt.ylabel(\"Number of question associations\")\n",
        "    \n",
        "    for i in range(len(y)):\n",
        "        plt.plot(i,y[i], marker='o', linestyle='',ms=area[i],label=x[i])\n",
        "\n",
        "    plt.legend(numpoints=1)\n",
        "    plt.show()"
      ],
      "execution_count": 0,
      "outputs": []
    },
    {
      "cell_type": "code",
      "metadata": {
        "id": "JVQKOpfNpOxa",
        "colab_type": "code",
        "outputId": "71c990a6-ed92-4226-b111-3eedde1506a1",
        "colab": {
          "base_uri": "https://localhost:8080/",
          "height": 524
        }
      },
      "source": [
        "tagCount =  collections.Counter(list(df_tags['Tag'])).most_common(10)\n",
        "\n",
        "print(tagCount)\n",
        "plot_tags(tagCount)"
      ],
      "execution_count": 5,
      "outputs": [
        {
          "output_type": "stream",
          "text": [
            "[('javascript', 124155), ('java', 115212), ('c#', 101186), ('php', 98808), ('android', 90659), ('jquery', 78542), ('python', 64601), ('html', 58976), ('c++', 47591), ('ios', 47009)]\n"
          ],
          "name": "stdout"
        },
        {
          "output_type": "display_data",
          "data": {
            "image/png": "[encoded data removed]",
            "text/plain": [
              "<Figure size 648x576 with 1 Axes>"
            ]
          },
          "metadata": {
            "tags": []
          }
        }
      ]
    },
    {
      "cell_type": "code",
      "metadata": {
        "id": "qNqZnbVmpOxf",
        "colab_type": "code",
        "colab": {}
      },
      "source": [
        "top10=['javascript','java','c#','php','android','jquery','python','html','c++','ios']"
      ],
      "execution_count": 0,
      "outputs": []
    },
    {
      "cell_type": "code",
      "metadata": {
        "id": "HbTsXoI8pOxj",
        "colab_type": "code",
        "outputId": "5edfb0f7-c9d9-4ec9-ba01-678452117878",
        "colab": {
          "base_uri": "https://localhost:8080/",
          "height": 216
        }
      },
      "source": [
        "tag_top10= df_tags[df_tags.Tag.isin(top10)]\n",
        "\n",
        "print (tag_top10.shape)\n",
        "tag_top10.head()"
      ],
      "execution_count": 7,
      "outputs": [
        {
          "output_type": "stream",
          "text": [
            "(826739, 2)\n"
          ],
          "name": "stdout"
        },
        {
          "output_type": "execute_result",
          "data": {
            "text/html": [
              "<div>\n",
              "<style scoped>\n",
              "    .dataframe tbody tr th:only-of-type {\n",
              "        vertical-align: middle;\n",
              "    }\n",
              "\n",
              "    .dataframe tbody tr th {\n",
              "        vertical-align: top;\n",
              "    }\n",
              "\n",
              "    .dataframe thead th {\n",
              "        text-align: right;\n",
              "    }\n",
              "</style>\n",
              "<table border=\"1\" class=\"dataframe\">\n",
              "  <thead>\n",
              "    <tr style=\"text-align: right;\">\n",
              "      <th></th>\n",
              "      <th>Id</th>\n",
              "      <th>Tag</th>\n",
              "    </tr>\n",
              "  </thead>\n",
              "  <tbody>\n",
              "    <tr>\n",
              "      <th>14</th>\n",
              "      <td>260</td>\n",
              "      <td>c#</td>\n",
              "    </tr>\n",
              "    <tr>\n",
              "      <th>18</th>\n",
              "      <td>330</td>\n",
              "      <td>c++</td>\n",
              "    </tr>\n",
              "    <tr>\n",
              "      <th>28</th>\n",
              "      <td>650</td>\n",
              "      <td>c#</td>\n",
              "    </tr>\n",
              "    <tr>\n",
              "      <th>35</th>\n",
              "      <td>930</td>\n",
              "      <td>c#</td>\n",
              "    </tr>\n",
              "    <tr>\n",
              "      <th>39</th>\n",
              "      <td>1010</td>\n",
              "      <td>c#</td>\n",
              "    </tr>\n",
              "  </tbody>\n",
              "</table>\n",
              "</div>"
            ],
            "text/plain": [
              "      Id  Tag\n",
              "14   260   c#\n",
              "18   330  c++\n",
              "28   650   c#\n",
              "35   930   c#\n",
              "39  1010   c#"
            ]
          },
          "metadata": {
            "tags": []
          },
          "execution_count": 7
        }
      ]
    },
    {
      "cell_type": "code",
      "metadata": {
        "id": "Pqg6WeoMpOxw",
        "colab_type": "code",
        "colab": {}
      },
      "source": [
        "def add_tags(question_id):\n",
        "    return tag_top10[tag_top10['Id'] == question_id['Id']].Tag.values\n",
        "\n",
        "top10 = tag_top10.apply(add_tags, axis=1)"
      ],
      "execution_count": 0,
      "outputs": []
    },
    {
      "cell_type": "code",
      "metadata": {
        "id": "5Ixk6HHkpOx0",
        "colab_type": "code",
        "outputId": "b3c0e6e5-7dc0-4dbb-c252-34df919d123b",
        "colab": {
          "base_uri": "https://localhost:8080/",
          "height": 34
        }
      },
      "source": [
        "len(top10),tag_top10.shape"
      ],
      "execution_count": 9,
      "outputs": [
        {
          "output_type": "execute_result",
          "data": {
            "text/plain": [
              "(826739, (826739, 2))"
            ]
          },
          "metadata": {
            "tags": []
          },
          "execution_count": 9
        }
      ]
    },
    {
      "cell_type": "code",
      "metadata": {
        "id": "aWmYBX6bpOx3",
        "colab_type": "code",
        "outputId": "bb39e053-d9e8-4de8-d5fc-50fe12c673a7",
        "colab": {
          "base_uri": "https://localhost:8080/",
          "height": 198
        }
      },
      "source": [
        "tag_top10=pd.concat([tag_top10, top10.rename('Tags')], axis=1)\n",
        "tag_top10.head()"
      ],
      "execution_count": 10,
      "outputs": [
        {
          "output_type": "execute_result",
          "data": {
            "text/html": [
              "<div>\n",
              "<style scoped>\n",
              "    .dataframe tbody tr th:only-of-type {\n",
              "        vertical-align: middle;\n",
              "    }\n",
              "\n",
              "    .dataframe tbody tr th {\n",
              "        vertical-align: top;\n",
              "    }\n",
              "\n",
              "    .dataframe thead th {\n",
              "        text-align: right;\n",
              "    }\n",
              "</style>\n",
              "<table border=\"1\" class=\"dataframe\">\n",
              "  <thead>\n",
              "    <tr style=\"text-align: right;\">\n",
              "      <th></th>\n",
              "      <th>Id</th>\n",
              "      <th>Tag</th>\n",
              "      <th>Tags</th>\n",
              "    </tr>\n",
              "  </thead>\n",
              "  <tbody>\n",
              "    <tr>\n",
              "      <th>14</th>\n",
              "      <td>260</td>\n",
              "      <td>c#</td>\n",
              "      <td>[c#]</td>\n",
              "    </tr>\n",
              "    <tr>\n",
              "      <th>18</th>\n",
              "      <td>330</td>\n",
              "      <td>c++</td>\n",
              "      <td>[c++]</td>\n",
              "    </tr>\n",
              "    <tr>\n",
              "      <th>28</th>\n",
              "      <td>650</td>\n",
              "      <td>c#</td>\n",
              "      <td>[c#]</td>\n",
              "    </tr>\n",
              "    <tr>\n",
              "      <th>35</th>\n",
              "      <td>930</td>\n",
              "      <td>c#</td>\n",
              "      <td>[c#]</td>\n",
              "    </tr>\n",
              "    <tr>\n",
              "      <th>39</th>\n",
              "      <td>1010</td>\n",
              "      <td>c#</td>\n",
              "      <td>[c#]</td>\n",
              "    </tr>\n",
              "  </tbody>\n",
              "</table>\n",
              "</div>"
            ],
            "text/plain": [
              "      Id  Tag   Tags\n",
              "14   260   c#   [c#]\n",
              "18   330  c++  [c++]\n",
              "28   650   c#   [c#]\n",
              "35   930   c#   [c#]\n",
              "39  1010   c#   [c#]"
            ]
          },
          "metadata": {
            "tags": []
          },
          "execution_count": 10
        }
      ]
    },
    {
      "cell_type": "code",
      "metadata": {
        "id": "SDnw4isJpOx7",
        "colab_type": "code",
        "outputId": "200f7e5c-3b04-4e41-c831-69631e3a36f5",
        "colab": {
          "base_uri": "https://localhost:8080/",
          "height": 34
        }
      },
      "source": [
        "tag_top10.drop([\"Tag\"], axis=1, inplace=True)\n",
        "tag_top10.shape"
      ],
      "execution_count": 11,
      "outputs": [
        {
          "output_type": "execute_result",
          "data": {
            "text/plain": [
              "(826739, 2)"
            ]
          },
          "metadata": {
            "tags": []
          },
          "execution_count": 11
        }
      ]
    },
    {
      "cell_type": "code",
      "metadata": {
        "id": "q4kF4xdLpOx_",
        "colab_type": "code",
        "colab": {}
      },
      "source": [
        "top10_tags=tag_top10.loc[tag_top10.astype(str).drop_duplicates().index]"
      ],
      "execution_count": 0,
      "outputs": []
    },
    {
      "cell_type": "code",
      "metadata": {
        "id": "KnthWNtOpOyD",
        "colab_type": "code",
        "outputId": "74e28cea-ba4b-4f48-a742-246150a0521d",
        "colab": {
          "base_uri": "https://localhost:8080/",
          "height": 285
        }
      },
      "source": [
        "ques = pd.read_csv('/content/gdrive/My Drive/question_clean.csv', encoding='iso-8859-1')\n",
        "ques.head()"
      ],
      "execution_count": 13,
      "outputs": [
        {
          "output_type": "execute_result",
          "data": {
            "text/html": [
              "<div>\n",
              "<style scoped>\n",
              "    .dataframe tbody tr th:only-of-type {\n",
              "        vertical-align: middle;\n",
              "    }\n",
              "\n",
              "    .dataframe tbody tr th {\n",
              "        vertical-align: top;\n",
              "    }\n",
              "\n",
              "    .dataframe thead th {\n",
              "        text-align: right;\n",
              "    }\n",
              "</style>\n",
              "<table border=\"1\" class=\"dataframe\">\n",
              "  <thead>\n",
              "    <tr style=\"text-align: right;\">\n",
              "      <th></th>\n",
              "      <th>Id</th>\n",
              "      <th>OwnerUserId</th>\n",
              "      <th>CreationDate</th>\n",
              "      <th>ClosedDate</th>\n",
              "      <th>Score</th>\n",
              "      <th>Title</th>\n",
              "      <th>Body</th>\n",
              "    </tr>\n",
              "  </thead>\n",
              "  <tbody>\n",
              "    <tr>\n",
              "      <th>0</th>\n",
              "      <td>80</td>\n",
              "      <td>26.0</td>\n",
              "      <td>2008-08-01T13:57:07Z</td>\n",
              "      <td>NaN</td>\n",
              "      <td>26</td>\n",
              "      <td>SQLStatement.execute() - multiple queries in o...</td>\n",
              "      <td>I've written a database generation script in S...</td>\n",
              "    </tr>\n",
              "    <tr>\n",
              "      <th>1</th>\n",
              "      <td>90</td>\n",
              "      <td>58.0</td>\n",
              "      <td>2008-08-01T14:41:24Z</td>\n",
              "      <td>2012-12-26T03:45:49Z</td>\n",
              "      <td>144</td>\n",
              "      <td>Good branching and merging tutorials for Torto...</td>\n",
              "      <td>Are there any really good tutorials explaining...</td>\n",
              "    </tr>\n",
              "    <tr>\n",
              "      <th>2</th>\n",
              "      <td>120</td>\n",
              "      <td>83.0</td>\n",
              "      <td>2008-08-01T15:50:08Z</td>\n",
              "      <td>NaN</td>\n",
              "      <td>21</td>\n",
              "      <td>ASP.NET Site Maps</td>\n",
              "      <td>Has anyone got experience creating SQL-based A...</td>\n",
              "    </tr>\n",
              "    <tr>\n",
              "      <th>3</th>\n",
              "      <td>180</td>\n",
              "      <td>2089740.0</td>\n",
              "      <td>2008-08-01T18:42:19Z</td>\n",
              "      <td>NaN</td>\n",
              "      <td>53</td>\n",
              "      <td>Function for creating color wheels</td>\n",
              "      <td>This is something I've pseudo-solved many time...</td>\n",
              "    </tr>\n",
              "    <tr>\n",
              "      <th>4</th>\n",
              "      <td>260</td>\n",
              "      <td>91.0</td>\n",
              "      <td>2008-08-01T23:22:08Z</td>\n",
              "      <td>NaN</td>\n",
              "      <td>49</td>\n",
              "      <td>Adding scripting functionality to .NET applica...</td>\n",
              "      <td>I have a little game written in C#. It uses a ...</td>\n",
              "    </tr>\n",
              "  </tbody>\n",
              "</table>\n",
              "</div>"
            ],
            "text/plain": [
              "    Id  ...                                               Body\n",
              "0   80  ...  I've written a database generation script in S...\n",
              "1   90  ...  Are there any really good tutorials explaining...\n",
              "2  120  ...  Has anyone got experience creating SQL-based A...\n",
              "3  180  ...  This is something I've pseudo-solved many time...\n",
              "4  260  ...  I have a little game written in C#. It uses a ...\n",
              "\n",
              "[5 rows x 7 columns]"
            ]
          },
          "metadata": {
            "tags": []
          },
          "execution_count": 13
        }
      ]
    },
    {
      "cell_type": "code",
      "metadata": {
        "id": "Ec62Z7E4pOyI",
        "colab_type": "code",
        "outputId": "b826373b-7648-4efb-9843-5030571612d4",
        "colab": {
          "base_uri": "https://localhost:8080/",
          "height": 302
        }
      },
      "source": [
        "total=pd.merge(ques, top10_tags, on='Id')\n",
        "print(total.shape)\n",
        "total.head()"
      ],
      "execution_count": 14,
      "outputs": [
        {
          "output_type": "stream",
          "text": [
            "(706336, 8)\n"
          ],
          "name": "stdout"
        },
        {
          "output_type": "execute_result",
          "data": {
            "text/html": [
              "<div>\n",
              "<style scoped>\n",
              "    .dataframe tbody tr th:only-of-type {\n",
              "        vertical-align: middle;\n",
              "    }\n",
              "\n",
              "    .dataframe tbody tr th {\n",
              "        vertical-align: top;\n",
              "    }\n",
              "\n",
              "    .dataframe thead th {\n",
              "        text-align: right;\n",
              "    }\n",
              "</style>\n",
              "<table border=\"1\" class=\"dataframe\">\n",
              "  <thead>\n",
              "    <tr style=\"text-align: right;\">\n",
              "      <th></th>\n",
              "      <th>Id</th>\n",
              "      <th>OwnerUserId</th>\n",
              "      <th>CreationDate</th>\n",
              "      <th>ClosedDate</th>\n",
              "      <th>Score</th>\n",
              "      <th>Title</th>\n",
              "      <th>Body</th>\n",
              "      <th>Tags</th>\n",
              "    </tr>\n",
              "  </thead>\n",
              "  <tbody>\n",
              "    <tr>\n",
              "      <th>0</th>\n",
              "      <td>260</td>\n",
              "      <td>91.0</td>\n",
              "      <td>2008-08-01T23:22:08Z</td>\n",
              "      <td>NaN</td>\n",
              "      <td>49</td>\n",
              "      <td>Adding scripting functionality to .NET applica...</td>\n",
              "      <td>I have a little game written in C#. It uses a ...</td>\n",
              "      <td>[c#]</td>\n",
              "    </tr>\n",
              "    <tr>\n",
              "      <th>1</th>\n",
              "      <td>330</td>\n",
              "      <td>63.0</td>\n",
              "      <td>2008-08-02T02:51:36Z</td>\n",
              "      <td>NaN</td>\n",
              "      <td>29</td>\n",
              "      <td>Should I use nested classes in this case?</td>\n",
              "      <td>I am working on a collection of classes used f...</td>\n",
              "      <td>[c++]</td>\n",
              "    </tr>\n",
              "    <tr>\n",
              "      <th>2</th>\n",
              "      <td>650</td>\n",
              "      <td>143.0</td>\n",
              "      <td>2008-08-03T11:12:52Z</td>\n",
              "      <td>NaN</td>\n",
              "      <td>79</td>\n",
              "      <td>Automatically update version number</td>\n",
              "      <td>I would like the version property of my applic...</td>\n",
              "      <td>[c#]</td>\n",
              "    </tr>\n",
              "    <tr>\n",
              "      <th>3</th>\n",
              "      <td>930</td>\n",
              "      <td>245.0</td>\n",
              "      <td>2008-08-04T00:47:25Z</td>\n",
              "      <td>NaN</td>\n",
              "      <td>28</td>\n",
              "      <td>How do I connect to a database and loop over a...</td>\n",
              "      <td>What's the simplest way to connect and query a...</td>\n",
              "      <td>[c#]</td>\n",
              "    </tr>\n",
              "    <tr>\n",
              "      <th>4</th>\n",
              "      <td>1010</td>\n",
              "      <td>67.0</td>\n",
              "      <td>2008-08-04T03:59:42Z</td>\n",
              "      <td>NaN</td>\n",
              "      <td>14</td>\n",
              "      <td>How to get the value of built, encoded ViewState?</td>\n",
              "      <td>I need to grab the base64-encoded representati...</td>\n",
              "      <td>[c#]</td>\n",
              "    </tr>\n",
              "  </tbody>\n",
              "</table>\n",
              "</div>"
            ],
            "text/plain": [
              "     Id  OwnerUserId  ...                                               Body   Tags\n",
              "0   260         91.0  ...  I have a little game written in C#. It uses a ...   [c#]\n",
              "1   330         63.0  ...  I am working on a collection of classes used f...  [c++]\n",
              "2   650        143.0  ...  I would like the version property of my applic...   [c#]\n",
              "3   930        245.0  ...  What's the simplest way to connect and query a...   [c#]\n",
              "4  1010         67.0  ...  I need to grab the base64-encoded representati...   [c#]\n",
              "\n",
              "[5 rows x 8 columns]"
            ]
          },
          "metadata": {
            "tags": []
          },
          "execution_count": 14
        }
      ]
    },
    {
      "cell_type": "code",
      "metadata": {
        "id": "3BcTvolmpOyO",
        "colab_type": "code",
        "colab": {}
      },
      "source": [
        "#Natural language processing using keras"
      ],
      "execution_count": 0,
      "outputs": []
    },
    {
      "cell_type": "code",
      "metadata": {
        "id": "UdPqQSJcpOyR",
        "colab_type": "code",
        "outputId": "e1228dde-c207-4296-f116-9f80ba24c614",
        "colab": {
          "base_uri": "https://localhost:8080/",
          "height": 34
        }
      },
      "source": [
        "\n",
        "from sklearn.model_selection import train_test_split\n",
        "from sklearn.preprocessing import MultiLabelBinarizer\n",
        "from nltk import word_tokenize\n",
        "from keras.preprocessing.text import Tokenizer\n",
        "from keras.preprocessing import sequence\n",
        "\n",
        "\n",
        "from keras.layers import LSTM, Activation, Dense, Dropout, Input, Embedding, BatchNormalization, GRU ,concatenate\n",
        "from keras.models import Model"
      ],
      "execution_count": 16,
      "outputs": [
        {
          "output_type": "stream",
          "text": [
            "Using TensorFlow backend.\n"
          ],
          "name": "stderr"
        }
      ]
    },
    {
      "cell_type": "code",
      "metadata": {
        "id": "BPI25CKLpOyW",
        "colab_type": "code",
        "outputId": "da734588-6bea-45ef-921f-e254e37ad1ad",
        "colab": {
          "base_uri": "https://localhost:8080/",
          "height": 52
        }
      },
      "source": [
        "multilabel_binarizer = MultiLabelBinarizer()\n",
        "multilabel_binarizer.fit(total.Tags)\n",
        "labels = multilabel_binarizer.classes_\n",
        "labels"
      ],
      "execution_count": 17,
      "outputs": [
        {
          "output_type": "execute_result",
          "data": {
            "text/plain": [
              "array(['android', 'c#', 'c++', 'html', 'ios', 'java', 'javascript',\n",
              "       'jquery', 'php', 'python'], dtype=object)"
            ]
          },
          "metadata": {
            "tags": []
          },
          "execution_count": 17
        }
      ]
    },
    {
      "cell_type": "code",
      "metadata": {
        "id": "SCCClJ0npOyb",
        "colab_type": "code",
        "colab": {}
      },
      "source": [
        "train,test=train_test_split(total[:706336],test_size=0.20,random_state=24)"
      ],
      "execution_count": 0,
      "outputs": []
    },
    {
      "cell_type": "code",
      "metadata": {
        "id": "rliu8mELpOyh",
        "colab_type": "code",
        "outputId": "27138cf9-2314-4143-e447-f6c0b726012a",
        "colab": {
          "base_uri": "https://localhost:8080/",
          "height": 34
        }
      },
      "source": [
        "train.shape,test.shape"
      ],
      "execution_count": 19,
      "outputs": [
        {
          "output_type": "execute_result",
          "data": {
            "text/plain": [
              "((565068, 8), (141268, 8))"
            ]
          },
          "metadata": {
            "tags": []
          },
          "execution_count": 19
        }
      ]
    },
    {
      "cell_type": "code",
      "metadata": {
        "id": "Ilus7VCVpOyp",
        "colab_type": "code",
        "colab": {}
      },
      "source": [
        "X_train_t=train['Title']\n",
        "X_train_b=train['Body']\n",
        "y_train=multilabel_binarizer.transform(train['Tags'])\n",
        "\n",
        "X_test_t=test['Title']\n",
        "X_test_b=test['Body']\n",
        "y_test=multilabel_binarizer.transform(test['Tags'])"
      ],
      "execution_count": 0,
      "outputs": []
    },
    {
      "cell_type": "code",
      "metadata": {
        "id": "uarP_4Y0_hWL",
        "colab_type": "code",
        "outputId": "8c0db966-55be-4906-f6c8-4ed2b7930a75",
        "colab": {
          "base_uri": "https://localhost:8080/",
          "height": 69
        }
      },
      "source": [
        " import nltk\n",
        " nltk.download('punkt')"
      ],
      "execution_count": 21,
      "outputs": [
        {
          "output_type": "stream",
          "text": [
            "[nltk_data] Downloading package punkt to /root/nltk_data...\n",
            "[nltk_data]   Package punkt is already up-to-date!\n"
          ],
          "name": "stdout"
        },
        {
          "output_type": "execute_result",
          "data": {
            "text/plain": [
              "True"
            ]
          },
          "metadata": {
            "tags": []
          },
          "execution_count": 21
        }
      ]
    },
    {
      "cell_type": "code",
      "metadata": {
        "id": "NI1Pe-YRpOyr",
        "colab_type": "code",
        "outputId": "fab7c2cf-07a6-424b-dc43-e9b90a7b00f1",
        "colab": {
          "base_uri": "https://localhost:8080/",
          "height": 34
        }
      },
      "source": [
        "#Train the model for Title tag\n",
        "\n",
        "sent_lens_t=[]\n",
        "for sent in train['Title']:\n",
        "    sent_lens_t.append(len(word_tokenize(sent)))\n",
        "max(sent_lens_t)"
      ],
      "execution_count": 22,
      "outputs": [
        {
          "output_type": "execute_result",
          "data": {
            "text/plain": [
              "59"
            ]
          },
          "metadata": {
            "tags": []
          },
          "execution_count": 22
        }
      ]
    },
    {
      "cell_type": "code",
      "metadata": {
        "id": "vZtjd4cvpOyv",
        "colab_type": "code",
        "outputId": "b4d75d25-f914-41ea-e04b-45921df30944",
        "colab": {
          "base_uri": "https://localhost:8080/",
          "height": 34
        }
      },
      "source": [
        "np.quantile(sent_lens_t,0.97)"
      ],
      "execution_count": 23,
      "outputs": [
        {
          "output_type": "execute_result",
          "data": {
            "text/plain": [
              "18.0"
            ]
          },
          "metadata": {
            "tags": []
          },
          "execution_count": 23
        }
      ]
    },
    {
      "cell_type": "code",
      "metadata": {
        "scrolled": true,
        "id": "6hGcuo8fpOyy",
        "colab_type": "code",
        "colab": {}
      },
      "source": [
        "max_len_t = 18\n",
        "tok = Tokenizer(char_level=False,split=' ')\n",
        "tok.fit_on_texts(X_train_t)\n",
        "sequences_train_t = tok.texts_to_sequences(X_train_t)"
      ],
      "execution_count": 0,
      "outputs": []
    },
    {
      "cell_type": "code",
      "metadata": {
        "id": "w9ZaCqJ5pOy0",
        "colab_type": "code",
        "outputId": "086756dc-56be-4a4d-a862-b1f529458a21",
        "colab": {
          "base_uri": "https://localhost:8080/",
          "height": 34
        }
      },
      "source": [
        "# Find vocabulary length of title\n",
        "vocab_len_t=len(tok.index_word.keys())\n",
        "vocab_len_t"
      ],
      "execution_count": 25,
      "outputs": [
        {
          "output_type": "execute_result",
          "data": {
            "text/plain": [
              "85725"
            ]
          },
          "metadata": {
            "tags": []
          },
          "execution_count": 25
        }
      ]
    },
    {
      "cell_type": "code",
      "metadata": {
        "id": "adnuu73bpOy3",
        "colab_type": "code",
        "outputId": "adc8de87-9154-4029-de79-00f5b74f0a59",
        "colab": {
          "base_uri": "https://localhost:8080/",
          "height": 138
        }
      },
      "source": [
        "sequences_matrix_train_t = sequence.pad_sequences(sequences_train_t,maxlen=max_len_t)\n",
        "sequences_matrix_train_t"
      ],
      "execution_count": 26,
      "outputs": [
        {
          "output_type": "execute_result",
          "data": {
            "text/plain": [
              "array([[    0,     0,     0, ...,     9,    89,    33],\n",
              "       [    0,     0,     0, ...,   434,    11,  1631],\n",
              "       [    0,     0,     0, ...,   175,   211,  1213],\n",
              "       ...,\n",
              "       [    0,     0,     0, ...,    10,    74,  2816],\n",
              "       [    0,     0,     0, ...,     2,    18,    81],\n",
              "       [    0,     0,     0, ..., 15470,   789,   249]], dtype=int32)"
            ]
          },
          "metadata": {
            "tags": []
          },
          "execution_count": 26
        }
      ]
    },
    {
      "cell_type": "code",
      "metadata": {
        "id": "Rx1N3r3EpOy7",
        "colab_type": "code",
        "colab": {}
      },
      "source": [
        "sequences_test_t = tok.texts_to_sequences(X_test_t)\n",
        "sequences_matrix_test_t = sequence.pad_sequences(sequences_test_t,maxlen=max_len_t)"
      ],
      "execution_count": 0,
      "outputs": []
    },
    {
      "cell_type": "code",
      "metadata": {
        "id": "jw5iLTKVpOy9",
        "colab_type": "code",
        "outputId": "9f933efe-cec8-49dc-949d-130c1b72559b",
        "colab": {
          "base_uri": "https://localhost:8080/",
          "height": 34
        }
      },
      "source": [
        "sequences_matrix_train_t.shape,  sequences_matrix_test_t.shape,  y_train.shape,  y_test.shape"
      ],
      "execution_count": 28,
      "outputs": [
        {
          "output_type": "execute_result",
          "data": {
            "text/plain": [
              "((565068, 18), (141268, 18), (565068, 10), (141268, 10))"
            ]
          },
          "metadata": {
            "tags": []
          },
          "execution_count": 28
        }
      ]
    },
    {
      "cell_type": "code",
      "metadata": {
        "id": "KK0UNAMTpOzB",
        "colab_type": "code",
        "outputId": "dc87453c-c7de-4504-a75f-3de79df115fa",
        "colab": {
          "base_uri": "https://localhost:8080/",
          "height": 34
        }
      },
      "source": [
        "#Train the model for Body tag\n",
        "\n",
        "sent_lens_b=[]\n",
        "for sent in train['Body']:\n",
        "    sent_lens_b.append(len(word_tokenize(sent)))\n",
        "max(sent_lens_b)"
      ],
      "execution_count": 29,
      "outputs": [
        {
          "output_type": "execute_result",
          "data": {
            "text/plain": [
              "14682"
            ]
          },
          "metadata": {
            "tags": []
          },
          "execution_count": 29
        }
      ]
    },
    {
      "cell_type": "code",
      "metadata": {
        "id": "eM0foquWpOzE",
        "colab_type": "code",
        "outputId": "34f73edd-0372-43bc-a2cc-bca591d09b78",
        "colab": {
          "base_uri": "https://localhost:8080/",
          "height": 34
        }
      },
      "source": [
        "np.quantile(sent_lens_b,0.90)"
      ],
      "execution_count": 30,
      "outputs": [
        {
          "output_type": "execute_result",
          "data": {
            "text/plain": [
              "599.0"
            ]
          },
          "metadata": {
            "tags": []
          },
          "execution_count": 30
        }
      ]
    },
    {
      "cell_type": "code",
      "metadata": {
        "id": "WmgFLm95pOzI",
        "colab_type": "code",
        "colab": {}
      },
      "source": [
        "max_len_b = 599\n",
        "tok = Tokenizer(char_level=False,split=' ')\n",
        "tok.fit_on_texts(X_train_b)\n",
        "sequences_train_b = tok.texts_to_sequences(X_train_b)"
      ],
      "execution_count": 0,
      "outputs": []
    },
    {
      "cell_type": "code",
      "metadata": {
        "id": "lkk5m9wtpOzK",
        "colab_type": "code",
        "outputId": "bccd37d6-67d3-4092-e19b-e6642f0021e2",
        "colab": {
          "base_uri": "https://localhost:8080/",
          "height": 34
        }
      },
      "source": [
        "#Find vocabulary length of body tag\n",
        "\n",
        "vocab_len_b =len(tok.index_word.keys())\n",
        "vocab_len_b "
      ],
      "execution_count": 32,
      "outputs": [
        {
          "output_type": "execute_result",
          "data": {
            "text/plain": [
              "1738012"
            ]
          },
          "metadata": {
            "tags": []
          },
          "execution_count": 32
        }
      ]
    },
    {
      "cell_type": "code",
      "metadata": {
        "id": "BOIKokNdpOzQ",
        "colab_type": "code",
        "outputId": "9d281562-b3ef-4f95-9420-c973da9463bb",
        "colab": {
          "base_uri": "https://localhost:8080/",
          "height": 138
        }
      },
      "source": [
        "sequences_matrix_train_b = sequence.pad_sequences(sequences_train_b,maxlen=max_len_b)\n",
        "sequences_matrix_train_b"
      ],
      "execution_count": 33,
      "outputs": [
        {
          "output_type": "execute_result",
          "data": {
            "text/plain": [
              "array([[   0,    0,    0, ...,   17,  231,  240],\n",
              "       [   0,    0,    0, ...,  276,  746,  686],\n",
              "       [   0,    0,    0, ...,    6,  670, 4620],\n",
              "       ...,\n",
              "       [   0,    0,    0, ...,   24,   70,  738],\n",
              "       [   0,    0,    0, ...,  202,   62,   10],\n",
              "       [   0,    0,    0, ...,  182,  201,   10]], dtype=int32)"
            ]
          },
          "metadata": {
            "tags": []
          },
          "execution_count": 33
        }
      ]
    },
    {
      "cell_type": "code",
      "metadata": {
        "id": "XoeCRpjCpOzT",
        "colab_type": "code",
        "colab": {}
      },
      "source": [
        "sequences_test_b = tok.texts_to_sequences(X_test_b)\n",
        "sequences_matrix_test_b = sequence.pad_sequences(sequences_test_b,maxlen=max_len_b)"
      ],
      "execution_count": 0,
      "outputs": []
    },
    {
      "cell_type": "code",
      "metadata": {
        "id": "EOhz-3XqpOzX",
        "colab_type": "code",
        "outputId": "b62f808e-fec4-40cf-91d5-b359ac7bc039",
        "colab": {
          "base_uri": "https://localhost:8080/",
          "height": 34
        }
      },
      "source": [
        "sequences_matrix_train_t.shape,  sequences_matrix_train_b.shape,  y_train.shape"
      ],
      "execution_count": 35,
      "outputs": [
        {
          "output_type": "execute_result",
          "data": {
            "text/plain": [
              "((565068, 18), (565068, 599), (565068, 10))"
            ]
          },
          "metadata": {
            "tags": []
          },
          "execution_count": 35
        }
      ]
    },
    {
      "cell_type": "code",
      "metadata": {
        "id": "C5XGcTG6pOzb",
        "colab_type": "code",
        "outputId": "5ff2a760-b209-4b03-83e2-a59d40806630",
        "colab": {
          "base_uri": "https://localhost:8080/",
          "height": 34
        }
      },
      "source": [
        "sequences_matrix_test_t.shape,  sequences_matrix_test_b.shape,  y_test.shape"
      ],
      "execution_count": 36,
      "outputs": [
        {
          "output_type": "execute_result",
          "data": {
            "text/plain": [
              "((141268, 18), (141268, 599), (141268, 10))"
            ]
          },
          "metadata": {
            "tags": []
          },
          "execution_count": 36
        }
      ]
    },
    {
      "cell_type": "code",
      "metadata": {
        "id": "GN8omtuIpOze",
        "colab_type": "code",
        "colab": {}
      },
      "source": [
        "def RNN():\n",
        "    # Title Only\n",
        "    title_input = Input(name='title_input',shape=[max_len_t])\n",
        "    title_Embed = Embedding(vocab_len_t+1,2000,input_length=max_len_t,mask_zero=True,name='title_Embed')(title_input)\n",
        "    gru_out_t = GRU(300)(title_Embed)\n",
        "    \n",
        "    # auxiliary output to tune GRU weights smoothly \n",
        "    auxiliary_output = Dense(10, activation='softmax', name='aux_output')(gru_out_t)   \n",
        "    \n",
        "    # Body Only\n",
        "    body_input = Input(name='body_input',shape=[max_len_b]) \n",
        "    body_Embed = Embedding(vocab_len_b+1,8000,input_length=max_len_b,mask_zero=True,name='body_Embed')(body_input)\n",
        "    gru_out_b = GRU(200)(body_Embed)\n",
        "    \n",
        "    # combined with GRU output\n",
        "    com = concatenate([gru_out_t, gru_out_b])\n",
        "    \n",
        "    # now the combined data is being fed to dense layers\n",
        "    dense1 = Dense(400,activation='relu')(com)\n",
        "    dp1 = Dropout(0.5)(dense1)\n",
        "    bn = BatchNormalization()(dp1) \n",
        "    dense2 = Dense(150,activation='relu')(bn)\n",
        "    \n",
        "    main_output = Dense(10, activation='softmax', name='main_output')(dense2)\n",
        "    \n",
        "    model = Model(inputs=[title_input, body_input],outputs=[main_output, auxiliary_output])\n",
        "    return model"
      ],
      "execution_count": 0,
      "outputs": []
    },
    {
      "cell_type": "code",
      "metadata": {
        "id": "b8R3yxJEpOzg",
        "colab_type": "code",
        "outputId": "b7984d75-d00c-4397-e7e6-43065bd5147b",
        "colab": {
          "base_uri": "https://localhost:8080/",
          "height": 884
        }
      },
      "source": [
        "model = RNN()\n",
        "model.summary()"
      ],
      "execution_count": 38,
      "outputs": [
        {
          "output_type": "stream",
          "text": [
            "WARNING: Logging before flag parsing goes to stderr.\n",
            "W0816 15:50:17.621904 140710096906112 deprecation_wrapper.py:119] From /usr/local/lib/python3.6/dist-packages/keras/backend/tensorflow_backend.py:517: The name tf.placeholder is deprecated. Please use tf.compat.v1.placeholder instead.\n",
            "\n",
            "W0816 15:50:17.688896 140710096906112 deprecation_wrapper.py:119] From /usr/local/lib/python3.6/dist-packages/keras/backend/tensorflow_backend.py:4138: The name tf.random_uniform is deprecated. Please use tf.random.uniform instead.\n",
            "\n",
            "W0816 15:50:17.716113 140710096906112 deprecation_wrapper.py:119] From /usr/local/lib/python3.6/dist-packages/keras/backend/tensorflow_backend.py:74: The name tf.get_default_graph is deprecated. Please use tf.compat.v1.get_default_graph instead.\n",
            "\n",
            "W0816 15:50:18.144909 140710096906112 deprecation.py:323] From /usr/local/lib/python3.6/dist-packages/keras/backend/tensorflow_backend.py:2974: add_dispatch_support.<locals>.wrapper (from tensorflow.python.ops.array_ops) is deprecated and will be removed in a future version.\n",
            "Instructions for updating:\n",
            "Use tf.where in 2.0, which has the same broadcast rule as np.where\n",
            "W0816 15:50:18.503511 140710096906112 deprecation_wrapper.py:119] From /usr/local/lib/python3.6/dist-packages/keras/backend/tensorflow_backend.py:133: The name tf.placeholder_with_default is deprecated. Please use tf.compat.v1.placeholder_with_default instead.\n",
            "\n",
            "W0816 15:50:18.514201 140710096906112 deprecation.py:506] From /usr/local/lib/python3.6/dist-packages/keras/backend/tensorflow_backend.py:3445: calling dropout (from tensorflow.python.ops.nn_ops) with keep_prob is deprecated and will be removed in a future version.\n",
            "Instructions for updating:\n",
            "Please use `rate` instead of `keep_prob`. Rate should be set to `rate = 1 - keep_prob`.\n"
          ],
          "name": "stderr"
        },
        {
          "output_type": "stream",
          "text": [
            "__________________________________________________________________________________________________\n",
            "Layer (type)                    Output Shape         Param #     Connected to                     \n",
            "==================================================================================================\n",
            "title_input (InputLayer)        (None, 18)           0                                            \n",
            "__________________________________________________________________________________________________\n",
            "body_input (InputLayer)         (None, 599)          0                                            \n",
            "__________________________________________________________________________________________________\n",
            "title_Embed (Embedding)         (None, 18, 2000)     171452000   title_input[0][0]                \n",
            "__________________________________________________________________________________________________\n",
            "body_Embed (Embedding)          (None, 599, 8000)    13904104000 body_input[0][0]                 \n",
            "__________________________________________________________________________________________________\n",
            "gru_1 (GRU)                     (None, 300)          2070900     title_Embed[0][0]                \n",
            "__________________________________________________________________________________________________\n",
            "gru_2 (GRU)                     (None, 200)          4920600     body_Embed[0][0]                 \n",
            "__________________________________________________________________________________________________\n",
            "concatenate_1 (Concatenate)     (None, 500)          0           gru_1[0][0]                      \n",
            "                                                                 gru_2[0][0]                      \n",
            "__________________________________________________________________________________________________\n",
            "dense_1 (Dense)                 (None, 400)          200400      concatenate_1[0][0]              \n",
            "__________________________________________________________________________________________________\n",
            "dropout_1 (Dropout)             (None, 400)          0           dense_1[0][0]                    \n",
            "__________________________________________________________________________________________________\n",
            "batch_normalization_1 (BatchNor (None, 400)          1600        dropout_1[0][0]                  \n",
            "__________________________________________________________________________________________________\n",
            "dense_2 (Dense)                 (None, 150)          60150       batch_normalization_1[0][0]      \n",
            "__________________________________________________________________________________________________\n",
            "main_output (Dense)             (None, 10)           1510        dense_2[0][0]                    \n",
            "__________________________________________________________________________________________________\n",
            "aux_output (Dense)              (None, 10)           3010        gru_1[0][0]                      \n",
            "==================================================================================================\n",
            "Total params: 14,082,814,170\n",
            "Trainable params: 14,082,813,370\n",
            "Non-trainable params: 800\n",
            "__________________________________________________________________________________________________\n"
          ],
          "name": "stdout"
        }
      ]
    },
    {
      "cell_type": "code",
      "metadata": {
        "id": "RRskJawUpOzj",
        "colab_type": "code",
        "outputId": "85fa04c1-c591-4673-adaf-8ff0c9cd1ed0",
        "colab": {
          "base_uri": "https://localhost:8080/",
          "height": 106
        }
      },
      "source": [
        "model.compile(optimizer='adam',loss={'main_output': 'categorical_crossentropy', 'aux_output': 'categorical_crossentropy'},\n",
        "              metrics=['accuracy'])"
      ],
      "execution_count": 39,
      "outputs": [
        {
          "output_type": "stream",
          "text": [
            "W0816 15:50:18.710572 140710096906112 deprecation_wrapper.py:119] From /usr/local/lib/python3.6/dist-packages/keras/optimizers.py:790: The name tf.train.Optimizer is deprecated. Please use tf.compat.v1.train.Optimizer instead.\n",
            "\n",
            "W0816 15:50:18.747283 140710096906112 deprecation_wrapper.py:119] From /usr/local/lib/python3.6/dist-packages/keras/backend/tensorflow_backend.py:3295: The name tf.log is deprecated. Please use tf.math.log instead.\n",
            "\n"
          ],
          "name": "stderr"
        }
      ]
    },
    {
      "cell_type": "code",
      "metadata": {
        "id": "MJBJRqZEpOzn",
        "colab_type": "code",
        "outputId": "c674d2c6-1fba-43f1-9b49-ddf61626a677",
        "colab": {
          "base_uri": "https://localhost:8080/",
          "height": 141
        }
      },
      "source": [
        "results=model.fit({'title_input': sequences_matrix_train_t, 'body_input': sequences_matrix_train_b},\n",
        "          {'main_output': y_train, 'aux_output': y_train},\n",
        "          validation_data=[{'title_input': sequences_matrix_test_t, 'body_input': sequences_matrix_test_b},\n",
        "          {'main_output': y_test, 'aux_output': y_test}],\n",
        "          epochs=5, batch_size=800)"
      ],
      "execution_count": 0,
      "outputs": [
        {
          "output_type": "stream",
          "text": [
            "/usr/local/lib/python3.6/dist-packages/tensorflow/python/ops/gradients_util.py:90: UserWarning: Converting sparse IndexedSlices to a dense Tensor with 171452000 elements. This may consume a large amount of memory.\n",
            "  num_elements)\n",
            "/usr/local/lib/python3.6/dist-packages/tensorflow/python/ops/gradients_util.py:90: UserWarning: Converting sparse IndexedSlices to a dense Tensor with 13904104000 elements. This may consume a large amount of memory.\n",
            "  num_elements)\n"
          ],
          "name": "stderr"
        },
        {
          "output_type": "stream",
          "text": [
            "Train on 565068 samples, validate on 141268 samples\n",
            "Epoch 1/5\n"
          ],
          "name": "stdout"
        }
      ]
    },
    {
      "cell_type": "code",
      "metadata": {
        "id": "g2oU8WzspOzq",
        "colab_type": "code",
        "colab": {}
      },
      "source": [
        "(predicted_main, predicted_aux)=model.predict({'title_input': sequences_matrix_test_t, 'body_input': sequences_matrix_test_b},verbose=1)"
      ],
      "execution_count": 0,
      "outputs": []
    },
    {
      "cell_type": "code",
      "metadata": {
        "id": "kwMBCE0FpOz0",
        "colab_type": "code",
        "colab": {}
      },
      "source": [
        "from sklearn.metrics import classification_report,f1_score"
      ],
      "execution_count": 0,
      "outputs": []
    },
    {
      "cell_type": "code",
      "metadata": {
        "id": "Dq21j4VbpOz9",
        "colab_type": "code",
        "colab": {}
      },
      "source": [
        "print(f1_score(y_test,predicted_main>.55,average='samples'))"
      ],
      "execution_count": 0,
      "outputs": []
    },
    {
      "cell_type": "code",
      "metadata": {
        "id": "ytY44dorpO0B",
        "colab_type": "code",
        "colab": {}
      },
      "source": [
        "print(classification_report(y_test,predicted_main>.55))"
      ],
      "execution_count": 0,
      "outputs": []
    },
    {
      "cell_type": "code",
      "metadata": {
        "id": "GQ7VRpVDpO0F",
        "colab_type": "code",
        "colab": {}
      },
      "source": [
        "test.iloc[24]"
      ],
      "execution_count": 0,
      "outputs": []
    },
    {
      "cell_type": "code",
      "metadata": {
        "id": "XNj_7QiXpO0L",
        "colab_type": "code",
        "colab": {}
      },
      "source": [
        "predicted_main[24].round(decimals = 2)"
      ],
      "execution_count": 0,
      "outputs": []
    },
    {
      "cell_type": "code",
      "metadata": {
        "id": "t3Y37AmepO0N",
        "colab_type": "code",
        "colab": {}
      },
      "source": [
        "labels"
      ],
      "execution_count": 0,
      "outputs": []
    },
    {
      "cell_type": "code",
      "metadata": {
        "id": "1O2dYT3qpO0S",
        "colab_type": "code",
        "colab": {}
      },
      "source": [
        "model.save('gdrive/My Drive/stackoverflow_tags533.h5')\n"
      ],
      "execution_count": 0,
      "outputs": []
    }
  ]
}